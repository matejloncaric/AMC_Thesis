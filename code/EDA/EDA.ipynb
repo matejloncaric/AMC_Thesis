{
 "cells": [
  {
   "attachments": {},
   "cell_type": "markdown",
   "metadata": {},
   "source": [
    "# Personal Information\n",
    "Name: **Matej Loncaric**\n",
    "\n",
    "StudentID: **12569372**\n",
    "\n",
    "Email: [**matej.loncaric@student.uva.nl**](matej.loncaric@student.uva.nl)\n",
    "\n",
    "Submitted on: **19.03.2023.**\n",
    "\n",
    "Github: "
   ]
  },
  {
   "attachments": {},
   "cell_type": "markdown",
   "metadata": {},
   "source": [
    "# Data Context"
   ]
  },
  {
   "attachments": {},
   "cell_type": "markdown",
   "metadata": {},
   "source": [
    "The data consists of patiens who underwent pancreatic resection at the Amsterdam UMC between 2013 and 2018. Two types of data are available for each patient:\n",
    "* The annotated MRI scans, containing the mask of the pancreas and the IPMN\n",
    "* Clinical variables collected by the Dutch Pancreatic Cancer Group (DPCG).\n",
    "\n",
    "It is worth noting that doing an exploratory data analysis on patient data is somewhat difficult due to patient confidentiality. Therefore, I will not present any actual scans, but the scan modalities which need to be reported to ensure transparency in the scanning process.\n",
    "\n",
    "The clinical variables will be added to the hard-coded radiomic features extracted using the PyRadiomics package, as well as deep-learning radiomic features extracted from the second fully connected layer of a convolutional neural network (ResNet50, VGG-19), and will be used to build a binary classifier for preoperative prediction of the development of Postoperative Pancreatic Fistula (POPF) in patients. All radiomic features will be extracted from the mask of the pancreas.\n",
    "A supplementary data dictionary was provided together with the DPCG data to understand all of the variables. "
   ]
  },
  {
   "attachments": {},
   "cell_type": "markdown",
   "metadata": {},
   "source": [
    "# Data Description"
   ]
  },
  {
   "attachments": {},
   "cell_type": "markdown",
   "metadata": {},
   "source": [
    "## DPCG data"
   ]
  },
  {
   "cell_type": "code",
   "execution_count": 1,
   "metadata": {
    "ExecuteTime": {
     "end_time": "2023-05-01T07:43:43.002717500Z",
     "start_time": "2023-05-01T07:43:40.316363700Z"
    }
   },
   "outputs": [],
   "source": [
    "import pandas as pd\n",
    "import os\n",
    "import numpy as np\n",
    "# import seaborn as sns"
   ]
  },
  {
   "cell_type": "code",
   "execution_count": 2,
   "metadata": {
    "ExecuteTime": {
     "end_time": "2023-05-01T07:43:43.149717300Z",
     "start_time": "2023-05-01T07:43:42.988720600Z"
    }
   },
   "outputs": [],
   "source": [
    "amc_data = pd.read_csv(r\"L:\\basic\\divi\\jstoker\\slicer_pdac\\Master Students SS 23\\Matej\\Patient_Data_DPCG\\included_patients_DPCG_amc.csv\", header = 0, sep = \";\")\n",
    "vumc_data = pd.read_csv(r\"L:\\basic\\divi\\jstoker\\slicer_pdac\\Master Students SS 23\\Matej\\Patient_Data_DPCG\\included_patients_DPCG_vumc.csv\", header = 0, sep=\";\")\n",
    "vumc_data.rename(columns={'Unnamed: 0':'Study ID'}, inplace=True)\n",
    "# patient_df = amc_data.append(vumc_data)"
   ]
  },
  {
   "cell_type": "code",
   "execution_count": 3,
   "outputs": [],
   "source": [
    "patient_df = pd.concat([amc_data, vumc_data], axis = 0)"
   ],
   "metadata": {
    "collapsed": false,
    "ExecuteTime": {
     "end_time": "2023-05-01T07:43:43.259717200Z",
     "start_time": "2023-05-01T07:43:43.180720400Z"
    }
   }
  },
  {
   "cell_type": "code",
   "execution_count": 4,
   "outputs": [
    {
     "data": {
      "text/plain": "     Study ID      gebdat  geslacht   behperdat  reggroep  verrichting-upn  \\\n0   PANC-1011  10-06-1946       1.0  08-01-2020       1.0        1514701.0   \n1   PANC-1012  07-02-1955       2.0  04-04-2016       1.0        2922268.0   \n2   PANC-1111  08-10-1981       2.0  11-01-2020       1.0        1539517.0   \n3   PANC-1243  11-08-1949       2.0  08-02-2016       1.0        2710836.0   \n4   PANC-1367  23-03-1958       1.0  22-02-2018       1.0        1432133.0   \n..        ...         ...       ...         ...       ...              ...   \n5   PANC-1584  03-01-1943       2.0  15-05-2019       1.0        1651416.0   \n6   PANC-1585  21-05-1948       1.0  04-05-2016       1.0        4943841.0   \n7   PANC-1586  21-02-1949       1.0  17-12-2016       1.0        1092775.0   \n8   PANC-1587  22-06-1937       1.0  17-02-2014       1.0        1627797.0   \n9   PANC-1588  20-02-1953       1.0  28-02-2018       1.0         320123.0   \n\n    lengte  gewicht  gewverlies  ecog  ...  comnier  combind  comhiv  \\\n0    179.0    106.0         0.0   1.0  ...      0.0      0.0     0.0   \n1      NaN      NaN         0.0   1.0  ...      NaN      NaN     NaN   \n2    165.0    100.0      9999.0   1.0  ...      0.0      0.0     0.0   \n3    162.0     78.0         0.0   0.0  ...      NaN      NaN     NaN   \n4    183.0     85.0         0.0   0.0  ...      NaN      NaN     NaN   \n..     ...      ...         ...   ...  ...      ...      ...     ...   \n5    161.0     52.0         0.0   0.0  ...      0.0      0.0     0.0   \n6   9999.0   9999.0         0.0   0.0  ...      NaN      NaN     NaN   \n7    179.0     71.0        10.0   2.0  ...      NaN      NaN     NaN   \n8    189.0     84.0         0.0   0.0  ...      NaN      NaN     NaN   \n9    186.0     93.0         3.0   1.0  ...      NaN      NaN     NaN   \n\n    commalig  commal1  commal2  commal3 commal4  comdiam  comdiaminsu  \n0        0.0      0.0      0.0      1.0     0.0      0.0          NaN  \n1        NaN      NaN      NaN      NaN     NaN      NaN          NaN  \n2        0.0      0.0      0.0      0.0     0.0      0.0          NaN  \n3        NaN      NaN      NaN      NaN     NaN      NaN          NaN  \n4        NaN      NaN      NaN      NaN     NaN      NaN          NaN  \n..       ...      ...      ...      ...     ...      ...          ...  \n5        0.0      0.0      0.0      0.0     0.0      0.0          NaN  \n6        NaN      NaN      NaN      NaN     NaN      NaN          NaN  \n7        NaN      NaN      NaN      NaN     NaN      NaN          NaN  \n8        1.0      0.0      1.0      0.0     0.0      NaN          NaN  \n9        NaN      NaN      NaN      NaN     NaN      1.0          1.0  \n\n[86 rows x 275 columns]",
      "text/html": "<div>\n<style scoped>\n    .dataframe tbody tr th:only-of-type {\n        vertical-align: middle;\n    }\n\n    .dataframe tbody tr th {\n        vertical-align: top;\n    }\n\n    .dataframe thead th {\n        text-align: right;\n    }\n</style>\n<table border=\"1\" class=\"dataframe\">\n  <thead>\n    <tr style=\"text-align: right;\">\n      <th></th>\n      <th>Study ID</th>\n      <th>gebdat</th>\n      <th>geslacht</th>\n      <th>behperdat</th>\n      <th>reggroep</th>\n      <th>verrichting-upn</th>\n      <th>lengte</th>\n      <th>gewicht</th>\n      <th>gewverlies</th>\n      <th>ecog</th>\n      <th>...</th>\n      <th>comnier</th>\n      <th>combind</th>\n      <th>comhiv</th>\n      <th>commalig</th>\n      <th>commal1</th>\n      <th>commal2</th>\n      <th>commal3</th>\n      <th>commal4</th>\n      <th>comdiam</th>\n      <th>comdiaminsu</th>\n    </tr>\n  </thead>\n  <tbody>\n    <tr>\n      <th>0</th>\n      <td>PANC-1011</td>\n      <td>10-06-1946</td>\n      <td>1.0</td>\n      <td>08-01-2020</td>\n      <td>1.0</td>\n      <td>1514701.0</td>\n      <td>179.0</td>\n      <td>106.0</td>\n      <td>0.0</td>\n      <td>1.0</td>\n      <td>...</td>\n      <td>0.0</td>\n      <td>0.0</td>\n      <td>0.0</td>\n      <td>0.0</td>\n      <td>0.0</td>\n      <td>0.0</td>\n      <td>1.0</td>\n      <td>0.0</td>\n      <td>0.0</td>\n      <td>NaN</td>\n    </tr>\n    <tr>\n      <th>1</th>\n      <td>PANC-1012</td>\n      <td>07-02-1955</td>\n      <td>2.0</td>\n      <td>04-04-2016</td>\n      <td>1.0</td>\n      <td>2922268.0</td>\n      <td>NaN</td>\n      <td>NaN</td>\n      <td>0.0</td>\n      <td>1.0</td>\n      <td>...</td>\n      <td>NaN</td>\n      <td>NaN</td>\n      <td>NaN</td>\n      <td>NaN</td>\n      <td>NaN</td>\n      <td>NaN</td>\n      <td>NaN</td>\n      <td>NaN</td>\n      <td>NaN</td>\n      <td>NaN</td>\n    </tr>\n    <tr>\n      <th>2</th>\n      <td>PANC-1111</td>\n      <td>08-10-1981</td>\n      <td>2.0</td>\n      <td>11-01-2020</td>\n      <td>1.0</td>\n      <td>1539517.0</td>\n      <td>165.0</td>\n      <td>100.0</td>\n      <td>9999.0</td>\n      <td>1.0</td>\n      <td>...</td>\n      <td>0.0</td>\n      <td>0.0</td>\n      <td>0.0</td>\n      <td>0.0</td>\n      <td>0.0</td>\n      <td>0.0</td>\n      <td>0.0</td>\n      <td>0.0</td>\n      <td>0.0</td>\n      <td>NaN</td>\n    </tr>\n    <tr>\n      <th>3</th>\n      <td>PANC-1243</td>\n      <td>11-08-1949</td>\n      <td>2.0</td>\n      <td>08-02-2016</td>\n      <td>1.0</td>\n      <td>2710836.0</td>\n      <td>162.0</td>\n      <td>78.0</td>\n      <td>0.0</td>\n      <td>0.0</td>\n      <td>...</td>\n      <td>NaN</td>\n      <td>NaN</td>\n      <td>NaN</td>\n      <td>NaN</td>\n      <td>NaN</td>\n      <td>NaN</td>\n      <td>NaN</td>\n      <td>NaN</td>\n      <td>NaN</td>\n      <td>NaN</td>\n    </tr>\n    <tr>\n      <th>4</th>\n      <td>PANC-1367</td>\n      <td>23-03-1958</td>\n      <td>1.0</td>\n      <td>22-02-2018</td>\n      <td>1.0</td>\n      <td>1432133.0</td>\n      <td>183.0</td>\n      <td>85.0</td>\n      <td>0.0</td>\n      <td>0.0</td>\n      <td>...</td>\n      <td>NaN</td>\n      <td>NaN</td>\n      <td>NaN</td>\n      <td>NaN</td>\n      <td>NaN</td>\n      <td>NaN</td>\n      <td>NaN</td>\n      <td>NaN</td>\n      <td>NaN</td>\n      <td>NaN</td>\n    </tr>\n    <tr>\n      <th>...</th>\n      <td>...</td>\n      <td>...</td>\n      <td>...</td>\n      <td>...</td>\n      <td>...</td>\n      <td>...</td>\n      <td>...</td>\n      <td>...</td>\n      <td>...</td>\n      <td>...</td>\n      <td>...</td>\n      <td>...</td>\n      <td>...</td>\n      <td>...</td>\n      <td>...</td>\n      <td>...</td>\n      <td>...</td>\n      <td>...</td>\n      <td>...</td>\n      <td>...</td>\n      <td>...</td>\n    </tr>\n    <tr>\n      <th>5</th>\n      <td>PANC-1584</td>\n      <td>03-01-1943</td>\n      <td>2.0</td>\n      <td>15-05-2019</td>\n      <td>1.0</td>\n      <td>1651416.0</td>\n      <td>161.0</td>\n      <td>52.0</td>\n      <td>0.0</td>\n      <td>0.0</td>\n      <td>...</td>\n      <td>0.0</td>\n      <td>0.0</td>\n      <td>0.0</td>\n      <td>0.0</td>\n      <td>0.0</td>\n      <td>0.0</td>\n      <td>0.0</td>\n      <td>0.0</td>\n      <td>0.0</td>\n      <td>NaN</td>\n    </tr>\n    <tr>\n      <th>6</th>\n      <td>PANC-1585</td>\n      <td>21-05-1948</td>\n      <td>1.0</td>\n      <td>04-05-2016</td>\n      <td>1.0</td>\n      <td>4943841.0</td>\n      <td>9999.0</td>\n      <td>9999.0</td>\n      <td>0.0</td>\n      <td>0.0</td>\n      <td>...</td>\n      <td>NaN</td>\n      <td>NaN</td>\n      <td>NaN</td>\n      <td>NaN</td>\n      <td>NaN</td>\n      <td>NaN</td>\n      <td>NaN</td>\n      <td>NaN</td>\n      <td>NaN</td>\n      <td>NaN</td>\n    </tr>\n    <tr>\n      <th>7</th>\n      <td>PANC-1586</td>\n      <td>21-02-1949</td>\n      <td>1.0</td>\n      <td>17-12-2016</td>\n      <td>1.0</td>\n      <td>1092775.0</td>\n      <td>179.0</td>\n      <td>71.0</td>\n      <td>10.0</td>\n      <td>2.0</td>\n      <td>...</td>\n      <td>NaN</td>\n      <td>NaN</td>\n      <td>NaN</td>\n      <td>NaN</td>\n      <td>NaN</td>\n      <td>NaN</td>\n      <td>NaN</td>\n      <td>NaN</td>\n      <td>NaN</td>\n      <td>NaN</td>\n    </tr>\n    <tr>\n      <th>8</th>\n      <td>PANC-1587</td>\n      <td>22-06-1937</td>\n      <td>1.0</td>\n      <td>17-02-2014</td>\n      <td>1.0</td>\n      <td>1627797.0</td>\n      <td>189.0</td>\n      <td>84.0</td>\n      <td>0.0</td>\n      <td>0.0</td>\n      <td>...</td>\n      <td>NaN</td>\n      <td>NaN</td>\n      <td>NaN</td>\n      <td>1.0</td>\n      <td>0.0</td>\n      <td>1.0</td>\n      <td>0.0</td>\n      <td>0.0</td>\n      <td>NaN</td>\n      <td>NaN</td>\n    </tr>\n    <tr>\n      <th>9</th>\n      <td>PANC-1588</td>\n      <td>20-02-1953</td>\n      <td>1.0</td>\n      <td>28-02-2018</td>\n      <td>1.0</td>\n      <td>320123.0</td>\n      <td>186.0</td>\n      <td>93.0</td>\n      <td>3.0</td>\n      <td>1.0</td>\n      <td>...</td>\n      <td>NaN</td>\n      <td>NaN</td>\n      <td>NaN</td>\n      <td>NaN</td>\n      <td>NaN</td>\n      <td>NaN</td>\n      <td>NaN</td>\n      <td>NaN</td>\n      <td>1.0</td>\n      <td>1.0</td>\n    </tr>\n  </tbody>\n</table>\n<p>86 rows × 275 columns</p>\n</div>"
     },
     "execution_count": 4,
     "metadata": {},
     "output_type": "execute_result"
    }
   ],
   "source": [
    "patient_df"
   ],
   "metadata": {
    "collapsed": false,
    "ExecuteTime": {
     "end_time": "2023-05-01T07:43:43.330714800Z",
     "start_time": "2023-05-01T07:43:43.188718600Z"
    }
   }
  },
  {
   "attachments": {},
   "cell_type": "markdown",
   "metadata": {},
   "source": [
    "The POPF data for each patient were cross-checked, and upon discovering that there are differences from the DPCG data, a new POPF variable was created. "
   ]
  },
  {
   "cell_type": "code",
   "execution_count": 5,
   "metadata": {
    "ExecuteTime": {
     "end_time": "2023-05-01T07:43:43.385718900Z",
     "start_time": "2023-05-01T07:43:43.281719400Z"
    }
   },
   "outputs": [
    {
     "data": {
      "text/plain": "     Study ID      gebdat  geslacht   behperdat  reggroep  verrichting-upn  \\\n0   PANC-1011  10-06-1946       1.0  08-01-2020       1.0        1514701.0   \n1   PANC-1012  07-02-1955       2.0  04-04-2016       1.0        2922268.0   \n12  PANC-1021  17-05-1952       1.0  30-04-2019       1.0        1567397.0   \n32  PANC-1022  19-10-1943       1.0  13-02-2020       1.0        4807657.0   \n33  PANC-1023  20-03-1949       2.0  26-06-2020       1.0        1887556.0   \n..        ...         ...       ...         ...       ...              ...   \n8   PANC-1888  04-05-1946       2.0  04-09-2017       1.0        5663158.0   \n7   PANC-1921  14-05-1944       2.0  17-07-2017       1.0        1298519.0   \n6   PANC-1922  26-04-1941       2.0  15-03-2018       1.0        3739945.0   \n5   PANC-1954  17-03-1951       2.0  02-09-2014       1.0         795928.0   \n15  PANC-1991  29-04-1944       2.0  16-04-2018       1.0        1443586.0   \n\n    lengte  gewicht  gewverlies  ecog  ...  comnier  combind  comhiv  \\\n0    179.0    106.0         0.0   1.0  ...      0.0      0.0     0.0   \n1      NaN      NaN         0.0   1.0  ...      NaN      NaN     NaN   \n12   184.0     77.0      9999.0   2.0  ...      0.0      0.0     0.0   \n32   190.0    108.0      9999.0   0.0  ...      0.0      0.0     0.0   \n33   161.0     51.0         5.0   0.0  ...      0.0      0.0     0.0   \n..     ...      ...         ...   ...  ...      ...      ...     ...   \n8    168.0     68.0         0.0   0.0  ...      NaN      NaN     NaN   \n7    168.0     65.0         3.0   0.0  ...      NaN      NaN     NaN   \n6    154.0     59.0         0.0   1.0  ...      0.0      NaN     NaN   \n5      NaN      NaN         0.0   0.0  ...      NaN      NaN     NaN   \n15   164.0     85.0         0.0   1.0  ...      0.0      0.0     0.0   \n\n    commalig  commal1  commal2  commal3 commal4  comdiam  comdiaminsu  \n0        0.0      0.0      0.0      1.0     0.0      0.0          NaN  \n1        NaN      NaN      NaN      NaN     NaN      NaN          NaN  \n12       0.0      0.0      0.0      0.0     0.0      1.0          0.0  \n32       1.0      0.0      1.0      0.0     0.0      0.0          NaN  \n33       0.0      0.0      0.0      0.0     0.0      0.0          NaN  \n..       ...      ...      ...      ...     ...      ...          ...  \n8        NaN      NaN      NaN      NaN     NaN      NaN          NaN  \n7        NaN      NaN      NaN      NaN     NaN      NaN          NaN  \n6        NaN      NaN      NaN      NaN     NaN      NaN          NaN  \n5        NaN      NaN      NaN      NaN     NaN      NaN          NaN  \n15       0.0      NaN      NaN      NaN     NaN      0.0          NaN  \n\n[86 rows x 275 columns]",
      "text/html": "<div>\n<style scoped>\n    .dataframe tbody tr th:only-of-type {\n        vertical-align: middle;\n    }\n\n    .dataframe tbody tr th {\n        vertical-align: top;\n    }\n\n    .dataframe thead th {\n        text-align: right;\n    }\n</style>\n<table border=\"1\" class=\"dataframe\">\n  <thead>\n    <tr style=\"text-align: right;\">\n      <th></th>\n      <th>Study ID</th>\n      <th>gebdat</th>\n      <th>geslacht</th>\n      <th>behperdat</th>\n      <th>reggroep</th>\n      <th>verrichting-upn</th>\n      <th>lengte</th>\n      <th>gewicht</th>\n      <th>gewverlies</th>\n      <th>ecog</th>\n      <th>...</th>\n      <th>comnier</th>\n      <th>combind</th>\n      <th>comhiv</th>\n      <th>commalig</th>\n      <th>commal1</th>\n      <th>commal2</th>\n      <th>commal3</th>\n      <th>commal4</th>\n      <th>comdiam</th>\n      <th>comdiaminsu</th>\n    </tr>\n  </thead>\n  <tbody>\n    <tr>\n      <th>0</th>\n      <td>PANC-1011</td>\n      <td>10-06-1946</td>\n      <td>1.0</td>\n      <td>08-01-2020</td>\n      <td>1.0</td>\n      <td>1514701.0</td>\n      <td>179.0</td>\n      <td>106.0</td>\n      <td>0.0</td>\n      <td>1.0</td>\n      <td>...</td>\n      <td>0.0</td>\n      <td>0.0</td>\n      <td>0.0</td>\n      <td>0.0</td>\n      <td>0.0</td>\n      <td>0.0</td>\n      <td>1.0</td>\n      <td>0.0</td>\n      <td>0.0</td>\n      <td>NaN</td>\n    </tr>\n    <tr>\n      <th>1</th>\n      <td>PANC-1012</td>\n      <td>07-02-1955</td>\n      <td>2.0</td>\n      <td>04-04-2016</td>\n      <td>1.0</td>\n      <td>2922268.0</td>\n      <td>NaN</td>\n      <td>NaN</td>\n      <td>0.0</td>\n      <td>1.0</td>\n      <td>...</td>\n      <td>NaN</td>\n      <td>NaN</td>\n      <td>NaN</td>\n      <td>NaN</td>\n      <td>NaN</td>\n      <td>NaN</td>\n      <td>NaN</td>\n      <td>NaN</td>\n      <td>NaN</td>\n      <td>NaN</td>\n    </tr>\n    <tr>\n      <th>12</th>\n      <td>PANC-1021</td>\n      <td>17-05-1952</td>\n      <td>1.0</td>\n      <td>30-04-2019</td>\n      <td>1.0</td>\n      <td>1567397.0</td>\n      <td>184.0</td>\n      <td>77.0</td>\n      <td>9999.0</td>\n      <td>2.0</td>\n      <td>...</td>\n      <td>0.0</td>\n      <td>0.0</td>\n      <td>0.0</td>\n      <td>0.0</td>\n      <td>0.0</td>\n      <td>0.0</td>\n      <td>0.0</td>\n      <td>0.0</td>\n      <td>1.0</td>\n      <td>0.0</td>\n    </tr>\n    <tr>\n      <th>32</th>\n      <td>PANC-1022</td>\n      <td>19-10-1943</td>\n      <td>1.0</td>\n      <td>13-02-2020</td>\n      <td>1.0</td>\n      <td>4807657.0</td>\n      <td>190.0</td>\n      <td>108.0</td>\n      <td>9999.0</td>\n      <td>0.0</td>\n      <td>...</td>\n      <td>0.0</td>\n      <td>0.0</td>\n      <td>0.0</td>\n      <td>1.0</td>\n      <td>0.0</td>\n      <td>1.0</td>\n      <td>0.0</td>\n      <td>0.0</td>\n      <td>0.0</td>\n      <td>NaN</td>\n    </tr>\n    <tr>\n      <th>33</th>\n      <td>PANC-1023</td>\n      <td>20-03-1949</td>\n      <td>2.0</td>\n      <td>26-06-2020</td>\n      <td>1.0</td>\n      <td>1887556.0</td>\n      <td>161.0</td>\n      <td>51.0</td>\n      <td>5.0</td>\n      <td>0.0</td>\n      <td>...</td>\n      <td>0.0</td>\n      <td>0.0</td>\n      <td>0.0</td>\n      <td>0.0</td>\n      <td>0.0</td>\n      <td>0.0</td>\n      <td>0.0</td>\n      <td>0.0</td>\n      <td>0.0</td>\n      <td>NaN</td>\n    </tr>\n    <tr>\n      <th>...</th>\n      <td>...</td>\n      <td>...</td>\n      <td>...</td>\n      <td>...</td>\n      <td>...</td>\n      <td>...</td>\n      <td>...</td>\n      <td>...</td>\n      <td>...</td>\n      <td>...</td>\n      <td>...</td>\n      <td>...</td>\n      <td>...</td>\n      <td>...</td>\n      <td>...</td>\n      <td>...</td>\n      <td>...</td>\n      <td>...</td>\n      <td>...</td>\n      <td>...</td>\n      <td>...</td>\n    </tr>\n    <tr>\n      <th>8</th>\n      <td>PANC-1888</td>\n      <td>04-05-1946</td>\n      <td>2.0</td>\n      <td>04-09-2017</td>\n      <td>1.0</td>\n      <td>5663158.0</td>\n      <td>168.0</td>\n      <td>68.0</td>\n      <td>0.0</td>\n      <td>0.0</td>\n      <td>...</td>\n      <td>NaN</td>\n      <td>NaN</td>\n      <td>NaN</td>\n      <td>NaN</td>\n      <td>NaN</td>\n      <td>NaN</td>\n      <td>NaN</td>\n      <td>NaN</td>\n      <td>NaN</td>\n      <td>NaN</td>\n    </tr>\n    <tr>\n      <th>7</th>\n      <td>PANC-1921</td>\n      <td>14-05-1944</td>\n      <td>2.0</td>\n      <td>17-07-2017</td>\n      <td>1.0</td>\n      <td>1298519.0</td>\n      <td>168.0</td>\n      <td>65.0</td>\n      <td>3.0</td>\n      <td>0.0</td>\n      <td>...</td>\n      <td>NaN</td>\n      <td>NaN</td>\n      <td>NaN</td>\n      <td>NaN</td>\n      <td>NaN</td>\n      <td>NaN</td>\n      <td>NaN</td>\n      <td>NaN</td>\n      <td>NaN</td>\n      <td>NaN</td>\n    </tr>\n    <tr>\n      <th>6</th>\n      <td>PANC-1922</td>\n      <td>26-04-1941</td>\n      <td>2.0</td>\n      <td>15-03-2018</td>\n      <td>1.0</td>\n      <td>3739945.0</td>\n      <td>154.0</td>\n      <td>59.0</td>\n      <td>0.0</td>\n      <td>1.0</td>\n      <td>...</td>\n      <td>0.0</td>\n      <td>NaN</td>\n      <td>NaN</td>\n      <td>NaN</td>\n      <td>NaN</td>\n      <td>NaN</td>\n      <td>NaN</td>\n      <td>NaN</td>\n      <td>NaN</td>\n      <td>NaN</td>\n    </tr>\n    <tr>\n      <th>5</th>\n      <td>PANC-1954</td>\n      <td>17-03-1951</td>\n      <td>2.0</td>\n      <td>02-09-2014</td>\n      <td>1.0</td>\n      <td>795928.0</td>\n      <td>NaN</td>\n      <td>NaN</td>\n      <td>0.0</td>\n      <td>0.0</td>\n      <td>...</td>\n      <td>NaN</td>\n      <td>NaN</td>\n      <td>NaN</td>\n      <td>NaN</td>\n      <td>NaN</td>\n      <td>NaN</td>\n      <td>NaN</td>\n      <td>NaN</td>\n      <td>NaN</td>\n      <td>NaN</td>\n    </tr>\n    <tr>\n      <th>15</th>\n      <td>PANC-1991</td>\n      <td>29-04-1944</td>\n      <td>2.0</td>\n      <td>16-04-2018</td>\n      <td>1.0</td>\n      <td>1443586.0</td>\n      <td>164.0</td>\n      <td>85.0</td>\n      <td>0.0</td>\n      <td>1.0</td>\n      <td>...</td>\n      <td>0.0</td>\n      <td>0.0</td>\n      <td>0.0</td>\n      <td>0.0</td>\n      <td>NaN</td>\n      <td>NaN</td>\n      <td>NaN</td>\n      <td>NaN</td>\n      <td>0.0</td>\n      <td>NaN</td>\n    </tr>\n  </tbody>\n</table>\n<p>86 rows × 275 columns</p>\n</div>"
     },
     "execution_count": 5,
     "metadata": {},
     "output_type": "execute_result"
    }
   ],
   "source": [
    "patient_df = patient_df.sort_values(by=[\"Study ID\"])\n",
    "patient_df"
   ]
  },
  {
   "cell_type": "code",
   "execution_count": 6,
   "metadata": {
    "ExecuteTime": {
     "end_time": "2023-05-01T07:43:43.644717100Z",
     "start_time": "2023-05-01T07:43:43.346727800Z"
    }
   },
   "outputs": [],
   "source": [
    "popf_list = pd.read_csv(r\"L:\\basic\\divi\\jstoker\\slicer_pdac\\Master Students SS 23\\Matej\\Patient_Data_DPCG\\POPF_list.csv\", header = 0, sep=\";\")"
   ]
  },
  {
   "cell_type": "code",
   "execution_count": 7,
   "metadata": {
    "ExecuteTime": {
     "end_time": "2023-05-01T07:43:43.645723500Z",
     "start_time": "2023-05-01T07:43:43.455723500Z"
    }
   },
   "outputs": [],
   "source": [
    "popf_list[\"POPF\"].replace(\"C\", 3, inplace=True)\n",
    "popf_list[\"POPF\"].replace(\"B\", 2, inplace=True)\n",
    "popf_list = popf_list.rename(columns = {\"SubjectID\": \"Study ID\"})\n",
    "# popf_list = popf_list.set_index(\"Study ID\")"
   ]
  },
  {
   "cell_type": "code",
   "execution_count": 8,
   "metadata": {
    "ExecuteTime": {
     "end_time": "2023-05-01T07:43:43.646722700Z",
     "start_time": "2023-05-01T07:43:43.469725600Z"
    }
   },
   "outputs": [],
   "source": [
    "popf_list[\"POPF\"].replace(np.nan, 0, inplace = True)"
   ]
  },
  {
   "cell_type": "code",
   "execution_count": 9,
   "metadata": {
    "ExecuteTime": {
     "end_time": "2023-05-01T07:43:43.646722700Z",
     "start_time": "2023-05-01T07:43:43.484722Z"
    }
   },
   "outputs": [],
   "source": [
    "popf_list = popf_list.sort_values(by =[\"Study ID\"])"
   ]
  },
  {
   "cell_type": "code",
   "execution_count": 10,
   "metadata": {
    "ExecuteTime": {
     "end_time": "2023-05-01T07:43:43.647725600Z",
     "start_time": "2023-05-01T07:43:43.501723300Z"
    }
   },
   "outputs": [
    {
     "data": {
      "text/plain": "     Study ID  POPF\n0   PANC-1011   3.0\n1   PANC-1012   0.0\n12  PANC-1021   0.0\n32  PANC-1022   0.0\n33  PANC-1023   2.0\n..        ...   ...\n8   PANC-1888   0.0\n7   PANC-1921   0.0\n6   PANC-1922   0.0\n5   PANC-1954   0.0\n15  PANC-1991   0.0\n\n[86 rows x 2 columns]",
      "text/html": "<div>\n<style scoped>\n    .dataframe tbody tr th:only-of-type {\n        vertical-align: middle;\n    }\n\n    .dataframe tbody tr th {\n        vertical-align: top;\n    }\n\n    .dataframe thead th {\n        text-align: right;\n    }\n</style>\n<table border=\"1\" class=\"dataframe\">\n  <thead>\n    <tr style=\"text-align: right;\">\n      <th></th>\n      <th>Study ID</th>\n      <th>POPF</th>\n    </tr>\n  </thead>\n  <tbody>\n    <tr>\n      <th>0</th>\n      <td>PANC-1011</td>\n      <td>3.0</td>\n    </tr>\n    <tr>\n      <th>1</th>\n      <td>PANC-1012</td>\n      <td>0.0</td>\n    </tr>\n    <tr>\n      <th>12</th>\n      <td>PANC-1021</td>\n      <td>0.0</td>\n    </tr>\n    <tr>\n      <th>32</th>\n      <td>PANC-1022</td>\n      <td>0.0</td>\n    </tr>\n    <tr>\n      <th>33</th>\n      <td>PANC-1023</td>\n      <td>2.0</td>\n    </tr>\n    <tr>\n      <th>...</th>\n      <td>...</td>\n      <td>...</td>\n    </tr>\n    <tr>\n      <th>8</th>\n      <td>PANC-1888</td>\n      <td>0.0</td>\n    </tr>\n    <tr>\n      <th>7</th>\n      <td>PANC-1921</td>\n      <td>0.0</td>\n    </tr>\n    <tr>\n      <th>6</th>\n      <td>PANC-1922</td>\n      <td>0.0</td>\n    </tr>\n    <tr>\n      <th>5</th>\n      <td>PANC-1954</td>\n      <td>0.0</td>\n    </tr>\n    <tr>\n      <th>15</th>\n      <td>PANC-1991</td>\n      <td>0.0</td>\n    </tr>\n  </tbody>\n</table>\n<p>86 rows × 2 columns</p>\n</div>"
     },
     "execution_count": 10,
     "metadata": {},
     "output_type": "execute_result"
    }
   ],
   "source": [
    "popf_list"
   ]
  },
  {
   "cell_type": "code",
   "execution_count": 11,
   "metadata": {
    "ExecuteTime": {
     "end_time": "2023-05-01T07:43:43.648724400Z",
     "start_time": "2023-05-01T07:43:43.531725200Z"
    }
   },
   "outputs": [
    {
     "name": "stderr",
     "output_type": "stream",
     "text": [
      "C:\\Users\\mloncaric\\AppData\\Local\\Temp\\ipykernel_19724\\3826081548.py:1: PerformanceWarning: DataFrame is highly fragmented.  This is usually the result of calling `frame.insert` many times, which has poor performance.  Consider joining all columns at once using pd.concat(axis=1) instead. To get a de-fragmented frame, use `newframe = frame.copy()`\n",
      "  patient_df[\"POPF\"] = popf_list[\"POPF\"]\n"
     ]
    }
   ],
   "source": [
    "patient_df[\"POPF\"] = popf_list[\"POPF\"]"
   ]
  },
  {
   "cell_type": "code",
   "execution_count": 12,
   "metadata": {
    "ExecuteTime": {
     "end_time": "2023-05-01T07:43:43.683716900Z",
     "start_time": "2023-05-01T07:43:43.548713900Z"
    }
   },
   "outputs": [
    {
     "name": "stdout",
     "output_type": "stream",
     "text": [
      "['Panc-1011', 'Panc-1012', 'Panc-1021', 'Panc-1022', 'Panc-1023', 'Panc-1024', 'Panc-1025', 'Panc-1026', 'Panc-1027', 'Panc-1028', 'Panc-1100', 'Panc-1111', 'Panc-1220', 'Panc-1230', 'Panc-1231', 'Panc-1232', 'Panc-1233', 'Panc-1234', 'Panc-1235', 'Panc-1236', 'Panc-1237', 'Panc-1238', 'Panc-1239', 'Panc-1240', 'Panc-1243', 'Panc-1290', 'Panc-1320', 'Panc-1321', 'Panc-1333', 'Panc-1340', 'Panc-1341', 'Panc-1342', 'Panc-1343', 'Panc-1344', 'Panc-1345', 'Panc-1346', 'Panc-1347', 'Panc-1348', 'Panc-1349', 'Panc-1367', 'Panc-1421', 'Panc-1423', 'Panc-1424', 'Panc-1425', 'Panc-1426', 'Panc-1427', 'Panc-1428', 'Panc-1429', 'Panc-1430', 'Panc-1554', 'Panc-1580', 'Panc-1581', 'Panc-1582', 'Panc-1583', 'Panc-1584', 'Panc-1585', 'Panc-1586', 'Panc-1587', 'Panc-1588', 'Panc-1589', 'Panc-1621', 'Panc-1651', 'Panc-1652', 'Panc-1666', 'Panc-1678', 'Panc-1679', 'Panc-1710', 'Panc-1711', 'Panc-1712', 'Panc-1713', 'Panc-1714', 'Panc-1777', 'Panc-1789', 'Panc-1791', 'Panc-1792', 'Panc-1871', 'Panc-1888', 'Panc-1921', 'Panc-1922', 'Panc-1954', 'Panc-1991']\n"
     ]
    }
   ],
   "source": [
    "path = r\"L:\\basic\\divi\\jstoker\\slicer_pdac\\Master Students SS 23\\Matej\\Segmented_MRI\"\n",
    "directories = [d for d in os.listdir(path) if os.path.isdir(os.path.join(path, d))]\n",
    "directory_names = [os.path.basename(d) for d in directories]\n",
    "\n",
    "print(directory_names) "
   ]
  },
  {
   "attachments": {},
   "cell_type": "markdown",
   "metadata": {},
   "source": [
    "The goal is to only keep the patients from the included file for which we have segmentations. Therefore, the following code loops through the dataframe, checking whether each patients has a directory for their scans."
   ]
  },
  {
   "cell_type": "code",
   "execution_count": 13,
   "metadata": {
    "ExecuteTime": {
     "end_time": "2023-05-01T07:43:43.684719700Z",
     "start_time": "2023-05-01T07:43:43.595722400Z"
    }
   },
   "outputs": [
    {
     "name": "stdout",
     "output_type": "stream",
     "text": [
      "81 86\n"
     ]
    }
   ],
   "source": [
    "patient_df[\"Study ID\"] = patient_df[\"Study ID\"].apply(str.capitalize)\n",
    "patient_df\n",
    "incl_with_scans = patient_df[patient_df[\"Study ID\"].isin(directory_names)]\n",
    "print(len(directory_names), len(patient_df)) "
   ]
  },
  {
   "cell_type": "code",
   "execution_count": 14,
   "metadata": {
    "ExecuteTime": {
     "end_time": "2023-05-01T07:43:43.931722600Z",
     "start_time": "2023-05-01T07:43:43.625721900Z"
    }
   },
   "outputs": [
    {
     "data": {
      "text/plain": "     Study ID      gebdat  geslacht   behperdat  reggroep  verrichting-upn  \\\n0   Panc-1011  10-06-1946       1.0  08-01-2020       1.0        1514701.0   \n1   Panc-1012  07-02-1955       2.0  04-04-2016       1.0        2922268.0   \n12  Panc-1021  17-05-1952       1.0  30-04-2019       1.0        1567397.0   \n32  Panc-1022  19-10-1943       1.0  13-02-2020       1.0        4807657.0   \n33  Panc-1023  20-03-1949       2.0  26-06-2020       1.0        1887556.0   \n..        ...         ...       ...         ...       ...              ...   \n8   Panc-1888  04-05-1946       2.0  04-09-2017       1.0        5663158.0   \n7   Panc-1921  14-05-1944       2.0  17-07-2017       1.0        1298519.0   \n6   Panc-1922  26-04-1941       2.0  15-03-2018       1.0        3739945.0   \n5   Panc-1954  17-03-1951       2.0  02-09-2014       1.0         795928.0   \n15  Panc-1991  29-04-1944       2.0  16-04-2018       1.0        1443586.0   \n\n    lengte  gewicht  gewverlies  ecog  ...  combind  comhiv  commalig  \\\n0    179.0    106.0         0.0   1.0  ...      0.0     0.0       0.0   \n1      NaN      NaN         0.0   1.0  ...      NaN     NaN       NaN   \n12   184.0     77.0      9999.0   2.0  ...      0.0     0.0       0.0   \n32   190.0    108.0      9999.0   0.0  ...      0.0     0.0       1.0   \n33   161.0     51.0         5.0   0.0  ...      0.0     0.0       0.0   \n..     ...      ...         ...   ...  ...      ...     ...       ...   \n8    168.0     68.0         0.0   0.0  ...      NaN     NaN       NaN   \n7    168.0     65.0         3.0   0.0  ...      NaN     NaN       NaN   \n6    154.0     59.0         0.0   1.0  ...      NaN     NaN       NaN   \n5      NaN      NaN         0.0   0.0  ...      NaN     NaN       NaN   \n15   164.0     85.0         0.0   1.0  ...      0.0     0.0       0.0   \n\n    commal1  commal2  commal3  commal4 comdiam  comdiaminsu  POPF  \n0       0.0      0.0      1.0      0.0     0.0          NaN   3.0  \n1       NaN      NaN      NaN      NaN     NaN          NaN   0.0  \n12      0.0      0.0      0.0      0.0     1.0          0.0   0.0  \n32      0.0      1.0      0.0      0.0     0.0          NaN   0.0  \n33      0.0      0.0      0.0      0.0     0.0          NaN   2.0  \n..      ...      ...      ...      ...     ...          ...   ...  \n8       NaN      NaN      NaN      NaN     NaN          NaN   0.0  \n7       NaN      NaN      NaN      NaN     NaN          NaN   0.0  \n6       NaN      NaN      NaN      NaN     NaN          NaN   0.0  \n5       NaN      NaN      NaN      NaN     NaN          NaN   0.0  \n15      NaN      NaN      NaN      NaN     0.0          NaN   0.0  \n\n[81 rows x 276 columns]",
      "text/html": "<div>\n<style scoped>\n    .dataframe tbody tr th:only-of-type {\n        vertical-align: middle;\n    }\n\n    .dataframe tbody tr th {\n        vertical-align: top;\n    }\n\n    .dataframe thead th {\n        text-align: right;\n    }\n</style>\n<table border=\"1\" class=\"dataframe\">\n  <thead>\n    <tr style=\"text-align: right;\">\n      <th></th>\n      <th>Study ID</th>\n      <th>gebdat</th>\n      <th>geslacht</th>\n      <th>behperdat</th>\n      <th>reggroep</th>\n      <th>verrichting-upn</th>\n      <th>lengte</th>\n      <th>gewicht</th>\n      <th>gewverlies</th>\n      <th>ecog</th>\n      <th>...</th>\n      <th>combind</th>\n      <th>comhiv</th>\n      <th>commalig</th>\n      <th>commal1</th>\n      <th>commal2</th>\n      <th>commal3</th>\n      <th>commal4</th>\n      <th>comdiam</th>\n      <th>comdiaminsu</th>\n      <th>POPF</th>\n    </tr>\n  </thead>\n  <tbody>\n    <tr>\n      <th>0</th>\n      <td>Panc-1011</td>\n      <td>10-06-1946</td>\n      <td>1.0</td>\n      <td>08-01-2020</td>\n      <td>1.0</td>\n      <td>1514701.0</td>\n      <td>179.0</td>\n      <td>106.0</td>\n      <td>0.0</td>\n      <td>1.0</td>\n      <td>...</td>\n      <td>0.0</td>\n      <td>0.0</td>\n      <td>0.0</td>\n      <td>0.0</td>\n      <td>0.0</td>\n      <td>1.0</td>\n      <td>0.0</td>\n      <td>0.0</td>\n      <td>NaN</td>\n      <td>3.0</td>\n    </tr>\n    <tr>\n      <th>1</th>\n      <td>Panc-1012</td>\n      <td>07-02-1955</td>\n      <td>2.0</td>\n      <td>04-04-2016</td>\n      <td>1.0</td>\n      <td>2922268.0</td>\n      <td>NaN</td>\n      <td>NaN</td>\n      <td>0.0</td>\n      <td>1.0</td>\n      <td>...</td>\n      <td>NaN</td>\n      <td>NaN</td>\n      <td>NaN</td>\n      <td>NaN</td>\n      <td>NaN</td>\n      <td>NaN</td>\n      <td>NaN</td>\n      <td>NaN</td>\n      <td>NaN</td>\n      <td>0.0</td>\n    </tr>\n    <tr>\n      <th>12</th>\n      <td>Panc-1021</td>\n      <td>17-05-1952</td>\n      <td>1.0</td>\n      <td>30-04-2019</td>\n      <td>1.0</td>\n      <td>1567397.0</td>\n      <td>184.0</td>\n      <td>77.0</td>\n      <td>9999.0</td>\n      <td>2.0</td>\n      <td>...</td>\n      <td>0.0</td>\n      <td>0.0</td>\n      <td>0.0</td>\n      <td>0.0</td>\n      <td>0.0</td>\n      <td>0.0</td>\n      <td>0.0</td>\n      <td>1.0</td>\n      <td>0.0</td>\n      <td>0.0</td>\n    </tr>\n    <tr>\n      <th>32</th>\n      <td>Panc-1022</td>\n      <td>19-10-1943</td>\n      <td>1.0</td>\n      <td>13-02-2020</td>\n      <td>1.0</td>\n      <td>4807657.0</td>\n      <td>190.0</td>\n      <td>108.0</td>\n      <td>9999.0</td>\n      <td>0.0</td>\n      <td>...</td>\n      <td>0.0</td>\n      <td>0.0</td>\n      <td>1.0</td>\n      <td>0.0</td>\n      <td>1.0</td>\n      <td>0.0</td>\n      <td>0.0</td>\n      <td>0.0</td>\n      <td>NaN</td>\n      <td>0.0</td>\n    </tr>\n    <tr>\n      <th>33</th>\n      <td>Panc-1023</td>\n      <td>20-03-1949</td>\n      <td>2.0</td>\n      <td>26-06-2020</td>\n      <td>1.0</td>\n      <td>1887556.0</td>\n      <td>161.0</td>\n      <td>51.0</td>\n      <td>5.0</td>\n      <td>0.0</td>\n      <td>...</td>\n      <td>0.0</td>\n      <td>0.0</td>\n      <td>0.0</td>\n      <td>0.0</td>\n      <td>0.0</td>\n      <td>0.0</td>\n      <td>0.0</td>\n      <td>0.0</td>\n      <td>NaN</td>\n      <td>2.0</td>\n    </tr>\n    <tr>\n      <th>...</th>\n      <td>...</td>\n      <td>...</td>\n      <td>...</td>\n      <td>...</td>\n      <td>...</td>\n      <td>...</td>\n      <td>...</td>\n      <td>...</td>\n      <td>...</td>\n      <td>...</td>\n      <td>...</td>\n      <td>...</td>\n      <td>...</td>\n      <td>...</td>\n      <td>...</td>\n      <td>...</td>\n      <td>...</td>\n      <td>...</td>\n      <td>...</td>\n      <td>...</td>\n      <td>...</td>\n    </tr>\n    <tr>\n      <th>8</th>\n      <td>Panc-1888</td>\n      <td>04-05-1946</td>\n      <td>2.0</td>\n      <td>04-09-2017</td>\n      <td>1.0</td>\n      <td>5663158.0</td>\n      <td>168.0</td>\n      <td>68.0</td>\n      <td>0.0</td>\n      <td>0.0</td>\n      <td>...</td>\n      <td>NaN</td>\n      <td>NaN</td>\n      <td>NaN</td>\n      <td>NaN</td>\n      <td>NaN</td>\n      <td>NaN</td>\n      <td>NaN</td>\n      <td>NaN</td>\n      <td>NaN</td>\n      <td>0.0</td>\n    </tr>\n    <tr>\n      <th>7</th>\n      <td>Panc-1921</td>\n      <td>14-05-1944</td>\n      <td>2.0</td>\n      <td>17-07-2017</td>\n      <td>1.0</td>\n      <td>1298519.0</td>\n      <td>168.0</td>\n      <td>65.0</td>\n      <td>3.0</td>\n      <td>0.0</td>\n      <td>...</td>\n      <td>NaN</td>\n      <td>NaN</td>\n      <td>NaN</td>\n      <td>NaN</td>\n      <td>NaN</td>\n      <td>NaN</td>\n      <td>NaN</td>\n      <td>NaN</td>\n      <td>NaN</td>\n      <td>0.0</td>\n    </tr>\n    <tr>\n      <th>6</th>\n      <td>Panc-1922</td>\n      <td>26-04-1941</td>\n      <td>2.0</td>\n      <td>15-03-2018</td>\n      <td>1.0</td>\n      <td>3739945.0</td>\n      <td>154.0</td>\n      <td>59.0</td>\n      <td>0.0</td>\n      <td>1.0</td>\n      <td>...</td>\n      <td>NaN</td>\n      <td>NaN</td>\n      <td>NaN</td>\n      <td>NaN</td>\n      <td>NaN</td>\n      <td>NaN</td>\n      <td>NaN</td>\n      <td>NaN</td>\n      <td>NaN</td>\n      <td>0.0</td>\n    </tr>\n    <tr>\n      <th>5</th>\n      <td>Panc-1954</td>\n      <td>17-03-1951</td>\n      <td>2.0</td>\n      <td>02-09-2014</td>\n      <td>1.0</td>\n      <td>795928.0</td>\n      <td>NaN</td>\n      <td>NaN</td>\n      <td>0.0</td>\n      <td>0.0</td>\n      <td>...</td>\n      <td>NaN</td>\n      <td>NaN</td>\n      <td>NaN</td>\n      <td>NaN</td>\n      <td>NaN</td>\n      <td>NaN</td>\n      <td>NaN</td>\n      <td>NaN</td>\n      <td>NaN</td>\n      <td>0.0</td>\n    </tr>\n    <tr>\n      <th>15</th>\n      <td>Panc-1991</td>\n      <td>29-04-1944</td>\n      <td>2.0</td>\n      <td>16-04-2018</td>\n      <td>1.0</td>\n      <td>1443586.0</td>\n      <td>164.0</td>\n      <td>85.0</td>\n      <td>0.0</td>\n      <td>1.0</td>\n      <td>...</td>\n      <td>0.0</td>\n      <td>0.0</td>\n      <td>0.0</td>\n      <td>NaN</td>\n      <td>NaN</td>\n      <td>NaN</td>\n      <td>NaN</td>\n      <td>0.0</td>\n      <td>NaN</td>\n      <td>0.0</td>\n    </tr>\n  </tbody>\n</table>\n<p>81 rows × 276 columns</p>\n</div>"
     },
     "execution_count": 14,
     "metadata": {},
     "output_type": "execute_result"
    }
   ],
   "source": [
    "incl_with_scans"
   ]
  },
  {
   "attachments": {},
   "cell_type": "markdown",
   "metadata": {},
   "source": [
    "There are 5 patients for which there is patient data available from the DPCG, but there are no MRI scans. Below is a list of those patients with their patient identifiers."
   ]
  },
  {
   "cell_type": "code",
   "execution_count": 15,
   "metadata": {
    "ExecuteTime": {
     "end_time": "2023-05-01T07:43:43.931722600Z",
     "start_time": "2023-05-01T07:43:43.724723100Z"
    }
   },
   "outputs": [
    {
     "name": "stdout",
     "output_type": "stream",
     "text": [
      "['Panc-1422', 'Panc-1611', 'Panc-1420', 'Panc-1155', 'Panc-1289']\n"
     ]
    }
   ],
   "source": [
    "to_drop = list(set(patient_df[\"Study ID\"]) - set(directory_names))\n",
    "to_drop = [x.capitalize() for x in to_drop]\n",
    "print(to_drop)"
   ]
  },
  {
   "cell_type": "code",
   "execution_count": 16,
   "metadata": {
    "ExecuteTime": {
     "end_time": "2023-05-01T07:43:43.931722600Z",
     "start_time": "2023-05-01T07:43:43.724723100Z"
    }
   },
   "outputs": [],
   "source": [
    "patient_df = patient_df.set_index(\"Study ID\")\n",
    "patient_df = patient_df.drop(to_drop)\n",
    "# patient_df "
   ]
  },
  {
   "attachments": {},
   "cell_type": "markdown",
   "metadata": {},
   "source": [
    "### Taking a closer look at the patient data"
   ]
  },
  {
   "cell_type": "code",
   "execution_count": 17,
   "metadata": {
    "ExecuteTime": {
     "end_time": "2023-05-01T07:43:43.932725600Z",
     "start_time": "2023-05-01T07:43:43.737728400Z"
    }
   },
   "outputs": [
    {
     "data": {
      "text/plain": "(81, 275)"
     },
     "execution_count": 17,
     "metadata": {},
     "output_type": "execute_result"
    }
   ],
   "source": [
    "patient_df.shape"
   ]
  },
  {
   "attachments": {},
   "cell_type": "markdown",
   "metadata": {},
   "source": [
    "* The patient dataframe consists of 81 patients, for which 274 (+1) variables are identified.\n",
    "* Let's first check whether there are any patients for which there are no data available from the DPCG database. \n",
    "* Not of the 274 variables are relevant for the study. Furthermore, there is a lot of missing data in the code. The variables, along with the number of missing values, are listed below. "
   ]
  },
  {
   "cell_type": "code",
   "execution_count": 18,
   "metadata": {
    "ExecuteTime": {
     "end_time": "2023-05-01T07:43:52.759206300Z",
     "start_time": "2023-05-01T07:43:52.741207900Z"
    }
   },
   "outputs": [],
   "source": [
    "patient_df_missing = patient_df.iloc[:, :274][patient_df.iloc[:, :274].isna().all(axis=1)]"
   ]
  },
  {
   "attachments": {},
   "cell_type": "markdown",
   "metadata": {},
   "source": [
    "There are 2 patients for which are included in the DPCG dataset, but there are no measurements available. Let's exclude them from the analysis for now."
   ]
  },
  {
   "cell_type": "code",
   "execution_count": 19,
   "metadata": {
    "ExecuteTime": {
     "end_time": "2023-05-01T07:43:54.565932200Z",
     "start_time": "2023-05-01T07:43:54.535211200Z"
    }
   },
   "outputs": [],
   "source": [
    "patient_df = patient_df.loc[~(patient_df.iloc[:, :274].isna()).all(axis=1)]"
   ]
  },
  {
   "cell_type": "code",
   "execution_count": 20,
   "metadata": {
    "ExecuteTime": {
     "end_time": "2023-05-01T07:43:55.533018200Z",
     "start_time": "2023-05-01T07:43:55.455028500Z"
    }
   },
   "outputs": [
    {
     "data": {
      "text/plain": "               gebdat  geslacht   behperdat  reggroep  verrichting-upn  \\\nStudy ID                                                                 \nPanc-1011  10-06-1946       1.0  08-01-2020       1.0        1514701.0   \nPanc-1012  07-02-1955       2.0  04-04-2016       1.0        2922268.0   \nPanc-1021  17-05-1952       1.0  30-04-2019       1.0        1567397.0   \nPanc-1022  19-10-1943       1.0  13-02-2020       1.0        4807657.0   \nPanc-1023  20-03-1949       2.0  26-06-2020       1.0        1887556.0   \n...               ...       ...         ...       ...              ...   \nPanc-1888  04-05-1946       2.0  04-09-2017       1.0        5663158.0   \nPanc-1921  14-05-1944       2.0  17-07-2017       1.0        1298519.0   \nPanc-1922  26-04-1941       2.0  15-03-2018       1.0        3739945.0   \nPanc-1954  17-03-1951       2.0  02-09-2014       1.0         795928.0   \nPanc-1991  29-04-1944       2.0  16-04-2018       1.0        1443586.0   \n\n           lengte  gewicht  gewverlies  ecog     igg4  ...  combind  comhiv  \\\nStudy ID                                               ...                    \nPanc-1011   179.0    106.0         0.0   1.0  9999.00  ...      0.0     0.0   \nPanc-1012     NaN      NaN         0.0   1.0  9999.00  ...      NaN     NaN   \nPanc-1021   184.0     77.0      9999.0   2.0     0.74  ...      0.0     0.0   \nPanc-1022   190.0    108.0      9999.0   0.0  9999.00  ...      0.0     0.0   \nPanc-1023   161.0     51.0         5.0   0.0     0.31  ...      0.0     0.0   \n...           ...      ...         ...   ...      ...  ...      ...     ...   \nPanc-1888   168.0     68.0         0.0   0.0  9999.00  ...      NaN     NaN   \nPanc-1921   168.0     65.0         3.0   0.0  9999.00  ...      NaN     NaN   \nPanc-1922   154.0     59.0         0.0   1.0  9999.00  ...      NaN     NaN   \nPanc-1954     NaN      NaN         0.0   0.0  9999.00  ...      NaN     NaN   \nPanc-1991   164.0     85.0         0.0   1.0  9999.00  ...      0.0     0.0   \n\n           commalig  commal1  commal2  commal3 commal4  comdiam  comdiaminsu  \\\nStudy ID                                                                       \nPanc-1011       0.0      0.0      0.0      1.0     0.0      0.0          NaN   \nPanc-1012       NaN      NaN      NaN      NaN     NaN      NaN          NaN   \nPanc-1021       0.0      0.0      0.0      0.0     0.0      1.0          0.0   \nPanc-1022       1.0      0.0      1.0      0.0     0.0      0.0          NaN   \nPanc-1023       0.0      0.0      0.0      0.0     0.0      0.0          NaN   \n...             ...      ...      ...      ...     ...      ...          ...   \nPanc-1888       NaN      NaN      NaN      NaN     NaN      NaN          NaN   \nPanc-1921       NaN      NaN      NaN      NaN     NaN      NaN          NaN   \nPanc-1922       NaN      NaN      NaN      NaN     NaN      NaN          NaN   \nPanc-1954       NaN      NaN      NaN      NaN     NaN      NaN          NaN   \nPanc-1991       0.0      NaN      NaN      NaN     NaN      0.0          NaN   \n\n           POPF  \nStudy ID         \nPanc-1011   3.0  \nPanc-1012   0.0  \nPanc-1021   0.0  \nPanc-1022   0.0  \nPanc-1023   2.0  \n...         ...  \nPanc-1888   0.0  \nPanc-1921   0.0  \nPanc-1922   0.0  \nPanc-1954   0.0  \nPanc-1991   0.0  \n\n[79 rows x 275 columns]",
      "text/html": "<div>\n<style scoped>\n    .dataframe tbody tr th:only-of-type {\n        vertical-align: middle;\n    }\n\n    .dataframe tbody tr th {\n        vertical-align: top;\n    }\n\n    .dataframe thead th {\n        text-align: right;\n    }\n</style>\n<table border=\"1\" class=\"dataframe\">\n  <thead>\n    <tr style=\"text-align: right;\">\n      <th></th>\n      <th>gebdat</th>\n      <th>geslacht</th>\n      <th>behperdat</th>\n      <th>reggroep</th>\n      <th>verrichting-upn</th>\n      <th>lengte</th>\n      <th>gewicht</th>\n      <th>gewverlies</th>\n      <th>ecog</th>\n      <th>igg4</th>\n      <th>...</th>\n      <th>combind</th>\n      <th>comhiv</th>\n      <th>commalig</th>\n      <th>commal1</th>\n      <th>commal2</th>\n      <th>commal3</th>\n      <th>commal4</th>\n      <th>comdiam</th>\n      <th>comdiaminsu</th>\n      <th>POPF</th>\n    </tr>\n    <tr>\n      <th>Study ID</th>\n      <th></th>\n      <th></th>\n      <th></th>\n      <th></th>\n      <th></th>\n      <th></th>\n      <th></th>\n      <th></th>\n      <th></th>\n      <th></th>\n      <th></th>\n      <th></th>\n      <th></th>\n      <th></th>\n      <th></th>\n      <th></th>\n      <th></th>\n      <th></th>\n      <th></th>\n      <th></th>\n      <th></th>\n    </tr>\n  </thead>\n  <tbody>\n    <tr>\n      <th>Panc-1011</th>\n      <td>10-06-1946</td>\n      <td>1.0</td>\n      <td>08-01-2020</td>\n      <td>1.0</td>\n      <td>1514701.0</td>\n      <td>179.0</td>\n      <td>106.0</td>\n      <td>0.0</td>\n      <td>1.0</td>\n      <td>9999.00</td>\n      <td>...</td>\n      <td>0.0</td>\n      <td>0.0</td>\n      <td>0.0</td>\n      <td>0.0</td>\n      <td>0.0</td>\n      <td>1.0</td>\n      <td>0.0</td>\n      <td>0.0</td>\n      <td>NaN</td>\n      <td>3.0</td>\n    </tr>\n    <tr>\n      <th>Panc-1012</th>\n      <td>07-02-1955</td>\n      <td>2.0</td>\n      <td>04-04-2016</td>\n      <td>1.0</td>\n      <td>2922268.0</td>\n      <td>NaN</td>\n      <td>NaN</td>\n      <td>0.0</td>\n      <td>1.0</td>\n      <td>9999.00</td>\n      <td>...</td>\n      <td>NaN</td>\n      <td>NaN</td>\n      <td>NaN</td>\n      <td>NaN</td>\n      <td>NaN</td>\n      <td>NaN</td>\n      <td>NaN</td>\n      <td>NaN</td>\n      <td>NaN</td>\n      <td>0.0</td>\n    </tr>\n    <tr>\n      <th>Panc-1021</th>\n      <td>17-05-1952</td>\n      <td>1.0</td>\n      <td>30-04-2019</td>\n      <td>1.0</td>\n      <td>1567397.0</td>\n      <td>184.0</td>\n      <td>77.0</td>\n      <td>9999.0</td>\n      <td>2.0</td>\n      <td>0.74</td>\n      <td>...</td>\n      <td>0.0</td>\n      <td>0.0</td>\n      <td>0.0</td>\n      <td>0.0</td>\n      <td>0.0</td>\n      <td>0.0</td>\n      <td>0.0</td>\n      <td>1.0</td>\n      <td>0.0</td>\n      <td>0.0</td>\n    </tr>\n    <tr>\n      <th>Panc-1022</th>\n      <td>19-10-1943</td>\n      <td>1.0</td>\n      <td>13-02-2020</td>\n      <td>1.0</td>\n      <td>4807657.0</td>\n      <td>190.0</td>\n      <td>108.0</td>\n      <td>9999.0</td>\n      <td>0.0</td>\n      <td>9999.00</td>\n      <td>...</td>\n      <td>0.0</td>\n      <td>0.0</td>\n      <td>1.0</td>\n      <td>0.0</td>\n      <td>1.0</td>\n      <td>0.0</td>\n      <td>0.0</td>\n      <td>0.0</td>\n      <td>NaN</td>\n      <td>0.0</td>\n    </tr>\n    <tr>\n      <th>Panc-1023</th>\n      <td>20-03-1949</td>\n      <td>2.0</td>\n      <td>26-06-2020</td>\n      <td>1.0</td>\n      <td>1887556.0</td>\n      <td>161.0</td>\n      <td>51.0</td>\n      <td>5.0</td>\n      <td>0.0</td>\n      <td>0.31</td>\n      <td>...</td>\n      <td>0.0</td>\n      <td>0.0</td>\n      <td>0.0</td>\n      <td>0.0</td>\n      <td>0.0</td>\n      <td>0.0</td>\n      <td>0.0</td>\n      <td>0.0</td>\n      <td>NaN</td>\n      <td>2.0</td>\n    </tr>\n    <tr>\n      <th>...</th>\n      <td>...</td>\n      <td>...</td>\n      <td>...</td>\n      <td>...</td>\n      <td>...</td>\n      <td>...</td>\n      <td>...</td>\n      <td>...</td>\n      <td>...</td>\n      <td>...</td>\n      <td>...</td>\n      <td>...</td>\n      <td>...</td>\n      <td>...</td>\n      <td>...</td>\n      <td>...</td>\n      <td>...</td>\n      <td>...</td>\n      <td>...</td>\n      <td>...</td>\n      <td>...</td>\n    </tr>\n    <tr>\n      <th>Panc-1888</th>\n      <td>04-05-1946</td>\n      <td>2.0</td>\n      <td>04-09-2017</td>\n      <td>1.0</td>\n      <td>5663158.0</td>\n      <td>168.0</td>\n      <td>68.0</td>\n      <td>0.0</td>\n      <td>0.0</td>\n      <td>9999.00</td>\n      <td>...</td>\n      <td>NaN</td>\n      <td>NaN</td>\n      <td>NaN</td>\n      <td>NaN</td>\n      <td>NaN</td>\n      <td>NaN</td>\n      <td>NaN</td>\n      <td>NaN</td>\n      <td>NaN</td>\n      <td>0.0</td>\n    </tr>\n    <tr>\n      <th>Panc-1921</th>\n      <td>14-05-1944</td>\n      <td>2.0</td>\n      <td>17-07-2017</td>\n      <td>1.0</td>\n      <td>1298519.0</td>\n      <td>168.0</td>\n      <td>65.0</td>\n      <td>3.0</td>\n      <td>0.0</td>\n      <td>9999.00</td>\n      <td>...</td>\n      <td>NaN</td>\n      <td>NaN</td>\n      <td>NaN</td>\n      <td>NaN</td>\n      <td>NaN</td>\n      <td>NaN</td>\n      <td>NaN</td>\n      <td>NaN</td>\n      <td>NaN</td>\n      <td>0.0</td>\n    </tr>\n    <tr>\n      <th>Panc-1922</th>\n      <td>26-04-1941</td>\n      <td>2.0</td>\n      <td>15-03-2018</td>\n      <td>1.0</td>\n      <td>3739945.0</td>\n      <td>154.0</td>\n      <td>59.0</td>\n      <td>0.0</td>\n      <td>1.0</td>\n      <td>9999.00</td>\n      <td>...</td>\n      <td>NaN</td>\n      <td>NaN</td>\n      <td>NaN</td>\n      <td>NaN</td>\n      <td>NaN</td>\n      <td>NaN</td>\n      <td>NaN</td>\n      <td>NaN</td>\n      <td>NaN</td>\n      <td>0.0</td>\n    </tr>\n    <tr>\n      <th>Panc-1954</th>\n      <td>17-03-1951</td>\n      <td>2.0</td>\n      <td>02-09-2014</td>\n      <td>1.0</td>\n      <td>795928.0</td>\n      <td>NaN</td>\n      <td>NaN</td>\n      <td>0.0</td>\n      <td>0.0</td>\n      <td>9999.00</td>\n      <td>...</td>\n      <td>NaN</td>\n      <td>NaN</td>\n      <td>NaN</td>\n      <td>NaN</td>\n      <td>NaN</td>\n      <td>NaN</td>\n      <td>NaN</td>\n      <td>NaN</td>\n      <td>NaN</td>\n      <td>0.0</td>\n    </tr>\n    <tr>\n      <th>Panc-1991</th>\n      <td>29-04-1944</td>\n      <td>2.0</td>\n      <td>16-04-2018</td>\n      <td>1.0</td>\n      <td>1443586.0</td>\n      <td>164.0</td>\n      <td>85.0</td>\n      <td>0.0</td>\n      <td>1.0</td>\n      <td>9999.00</td>\n      <td>...</td>\n      <td>0.0</td>\n      <td>0.0</td>\n      <td>0.0</td>\n      <td>NaN</td>\n      <td>NaN</td>\n      <td>NaN</td>\n      <td>NaN</td>\n      <td>0.0</td>\n      <td>NaN</td>\n      <td>0.0</td>\n    </tr>\n  </tbody>\n</table>\n<p>79 rows × 275 columns</p>\n</div>"
     },
     "execution_count": 20,
     "metadata": {},
     "output_type": "execute_result"
    }
   ],
   "source": [
    "patient_df"
   ]
  },
  {
   "cell_type": "markdown",
   "source": [
    "## Extract labels for training"
   ],
   "metadata": {
    "collapsed": false
   }
  },
  {
   "cell_type": "code",
   "execution_count": 21,
   "outputs": [],
   "source": [
    "POPF_training_radiomics = patient_df['POPF']"
   ],
   "metadata": {
    "collapsed": false,
    "ExecuteTime": {
     "end_time": "2023-05-01T07:43:58.542907400Z",
     "start_time": "2023-05-01T07:43:57.461903700Z"
    }
   }
  },
  {
   "cell_type": "code",
   "execution_count": 22,
   "outputs": [],
   "source": [
    "root_dir = r\"L:\\basic\\divi\\jstoker\\slicer_pdac\\Master Students SS 23\\Matej\\SEGMRI\"\n",
    "bounding_boxes = []\n",
    "\n",
    "for subdir in os.listdir(root_dir):\n",
    "    patient_number = subdir\n",
    "    if subdir.startswith(\"Panc-\"):\n",
    "        pancreas_dir = os.path.join(root_dir, subdir, \"Pancreas\")\n",
    "\n",
    "        for filename in os.listdir(pancreas_dir):\n",
    "            if filename.endswith(\"_BB.nii.gz\"):\n",
    "                bounding_boxes.append(filename)"
   ],
   "metadata": {
    "collapsed": false,
    "ExecuteTime": {
     "end_time": "2023-05-01T07:43:58.731939800Z",
     "start_time": "2023-05-01T07:43:58.498911100Z"
    }
   }
  },
  {
   "cell_type": "code",
   "execution_count": 23,
   "outputs": [
    {
     "data": {
      "text/plain": "75"
     },
     "execution_count": 23,
     "metadata": {},
     "output_type": "execute_result"
    }
   ],
   "source": [
    "len(bounding_boxes)"
   ],
   "metadata": {
    "collapsed": false,
    "ExecuteTime": {
     "end_time": "2023-05-01T07:44:00.652783900Z",
     "start_time": "2023-05-01T07:44:00.611755800Z"
    }
   }
  },
  {
   "cell_type": "code",
   "execution_count": 24,
   "outputs": [],
   "source": [
    "patients = []\n",
    "\n",
    "for el in bounding_boxes:\n",
    "    el = el[:9]\n",
    "    patients.append(el)"
   ],
   "metadata": {
    "collapsed": false,
    "ExecuteTime": {
     "end_time": "2023-05-01T07:44:01.100216800Z",
     "start_time": "2023-05-01T07:44:01.072925Z"
    }
   }
  },
  {
   "cell_type": "code",
   "execution_count": 25,
   "outputs": [
    {
     "data": {
      "text/plain": "['Panc-1011',\n 'Panc-1012',\n 'Panc-1021',\n 'Panc-1022',\n 'Panc-1023',\n 'Panc-1024',\n 'Panc-1025',\n 'Panc-1026',\n 'Panc-1027',\n 'Panc-1028',\n 'Panc-1100',\n 'Panc-1111',\n 'Panc-1220',\n 'Panc-1230',\n 'Panc-1231',\n 'Panc-1232',\n 'Panc-1233',\n 'Panc-1234',\n 'Panc-1235',\n 'Panc-1236',\n 'Panc-1237',\n 'Panc-1238',\n 'Panc-1239',\n 'Panc-1243',\n 'Panc-1290',\n 'Panc-1320',\n 'Panc-1333',\n 'Panc-1340',\n 'Panc-1341',\n 'Panc-1342',\n 'Panc-1343',\n 'Panc-1344',\n 'Panc-1345',\n 'Panc-1346',\n 'Panc-1347',\n 'Panc-1348',\n 'Panc-1349',\n 'Panc-1367',\n 'Panc-1421',\n 'Panc-1423',\n 'Panc-1424',\n 'Panc-1426',\n 'Panc-1427',\n 'Panc-1428',\n 'Panc-1429',\n 'Panc-1430',\n 'Panc-1554',\n 'Panc-1580',\n 'Panc-1581',\n 'Panc-1582',\n 'Panc-1584',\n 'Panc-1585',\n 'Panc-1586',\n 'Panc-1588',\n 'Panc-1589',\n 'Panc-1621',\n 'Panc-1651',\n 'Panc-1652',\n 'Panc-1666',\n 'Panc-1678',\n 'Panc-1679',\n 'Panc-1711',\n 'Panc-1712',\n 'Panc-1713',\n 'Panc-1714',\n 'Panc-1777',\n 'Panc-1789',\n 'Panc-1791',\n 'Panc-1792',\n 'Panc-1871',\n 'Panc-1888',\n 'Panc-1921',\n 'Panc-1922',\n 'Panc-1954',\n 'Panc-1991']"
     },
     "execution_count": 25,
     "metadata": {},
     "output_type": "execute_result"
    }
   ],
   "source": [
    "patients"
   ],
   "metadata": {
    "collapsed": false,
    "ExecuteTime": {
     "end_time": "2023-05-01T07:44:01.912426600Z",
     "start_time": "2023-05-01T07:44:01.849481400Z"
    }
   }
  },
  {
   "cell_type": "markdown",
   "source": [],
   "metadata": {
    "collapsed": false
   }
  },
  {
   "cell_type": "code",
   "execution_count": 26,
   "outputs": [],
   "source": [
    "POPF_training_radiomics =  POPF_training_radiomics.loc[patients]"
   ],
   "metadata": {
    "collapsed": false,
    "ExecuteTime": {
     "end_time": "2023-05-01T07:44:02.979413700Z",
     "start_time": "2023-05-01T07:44:02.940333500Z"
    }
   }
  },
  {
   "cell_type": "code",
   "execution_count": 27,
   "outputs": [
    {
     "data": {
      "text/plain": "Study ID\nPanc-1011    3.0\nPanc-1012    0.0\nPanc-1021    0.0\nPanc-1022    0.0\nPanc-1023    2.0\n            ... \nPanc-1888    0.0\nPanc-1921    0.0\nPanc-1922    0.0\nPanc-1954    0.0\nPanc-1991    0.0\nName: POPF, Length: 75, dtype: float64"
     },
     "execution_count": 27,
     "metadata": {},
     "output_type": "execute_result"
    }
   ],
   "source": [
    "POPF_training_radiomics"
   ],
   "metadata": {
    "collapsed": false,
    "ExecuteTime": {
     "end_time": "2023-05-01T07:44:03.537505Z",
     "start_time": "2023-05-01T07:44:03.499711200Z"
    }
   }
  },
  {
   "cell_type": "code",
   "execution_count": 28,
   "outputs": [],
   "source": [
    "POPF_training_radiomics[POPF_training_radiomics > 0] = 1"
   ],
   "metadata": {
    "collapsed": false,
    "ExecuteTime": {
     "end_time": "2023-05-01T07:44:04.268177500Z",
     "start_time": "2023-05-01T07:44:04.245978Z"
    }
   }
  },
  {
   "cell_type": "code",
   "execution_count": 29,
   "outputs": [],
   "source": [
    "POPF_training_radiomics.to_excel(\"Matej_labels.xlsx\", index = True)"
   ],
   "metadata": {
    "collapsed": false,
    "ExecuteTime": {
     "end_time": "2023-05-01T07:44:06.339478Z",
     "start_time": "2023-05-01T07:44:04.930032800Z"
    }
   }
  },
  {
   "cell_type": "markdown",
   "source": [
    "## Relevant patients"
   ],
   "metadata": {
    "collapsed": false
   }
  },
  {
   "attachments": {},
   "cell_type": "markdown",
   "metadata": {},
   "source": [
    "Let's create a new dataframe with only the most relevant patient variables."
   ]
  },
  {
   "cell_type": "code",
   "execution_count": 25,
   "metadata": {
    "ExecuteTime": {
     "start_time": "2023-04-21T15:39:53.750347Z",
     "end_time": "2023-04-21T15:39:53.785365Z"
    }
   },
   "outputs": [],
   "source": [
    "# Define relevant variables\n",
    "relevant_vars = [\"gebdat\", \"behperdat\", \"geslacht\", \"reggroep\", \"igg4\", \"mri\", \"beeldconcl\", \"lokalisatie\", \"diagroot\", \"bildrain\", \"cytdiagnose\", \"asascore\", \"resectie\", \"laparoscopie\", \"invasief\", \"typok\", \"POPF\", \"adjuvant\", \"ipmnpost\"]\n",
    "\n",
    "# Create new DataFrame with relevant variables\n",
    "patient_df_rel = patient_df[relevant_vars].copy()"
   ]
  },
  {
   "attachments": {},
   "cell_type": "markdown",
   "metadata": {},
   "source": [
    "To do analysis on the relevant patient variables, they all need to be of a numerical type. Let's check the type of each variable."
   ]
  },
  {
   "cell_type": "code",
   "execution_count": 26,
   "metadata": {
    "ExecuteTime": {
     "start_time": "2023-04-21T15:39:55.596981Z",
     "end_time": "2023-04-21T15:39:55.623995Z"
    }
   },
   "outputs": [
    {
     "name": "stdout",
     "output_type": "stream",
     "text": [
      "gebdat           object\n",
      "behperdat        object\n",
      "geslacht        float64\n",
      "reggroep        float64\n",
      "igg4            float64\n",
      "mri             float64\n",
      "beeldconcl      float64\n",
      "lokalisatie     float64\n",
      "diagroot        float64\n",
      "bildrain        float64\n",
      "cytdiagnose     float64\n",
      "asascore        float64\n",
      "resectie        float64\n",
      "laparoscopie    float64\n",
      "invasief        float64\n",
      "typok           float64\n",
      "POPF            float64\n",
      "adjuvant        float64\n",
      "ipmnpost        float64\n",
      "dtype: object\n"
     ]
    }
   ],
   "source": [
    "print(patient_df_rel.dtypes)"
   ]
  },
  {
   "cell_type": "code",
   "execution_count": 27,
   "metadata": {
    "ExecuteTime": {
     "start_time": "2023-04-21T15:39:56.666236Z",
     "end_time": "2023-04-21T15:39:56.708234Z"
    }
   },
   "outputs": [],
   "source": [
    "patient_df_rel[\"gebdat\"] = pd.to_datetime(patient_df_rel[\"gebdat\"], format=\"%d-%m-%Y\")\n",
    "patient_df_rel[\"behperdat\"] = pd.to_datetime(patient_df_rel[\"behperdat\"], format=\"%d-%m-%Y\")"
   ]
  },
  {
   "attachments": {},
   "cell_type": "markdown",
   "metadata": {},
   "source": [
    "For many of the variables, missing and unknown data are denoted in a different way; this needs to be transformed into a standardized format for further analysis. We will assume that having an unknown measurement of a variable is the same as having no measurement for that variable. \n",
    "\n",
    "* For igg4 = 9999, the IgG4 in g/L is unknown. \n",
    "* For mri = 9, whether or not the patient has an MRI scan available is unknown. \n",
    "* For diagroot = 9999, the largest diameter of the tumor is unknown. \n",
    "* For lokalisatie = 9, the localization of the tumor is unknown. \n",
    "* For bildrain = 9, the drainage is unknown. \n",
    "* For cytdiagnose = 9, the cytological diagnosis is unknown. \n",
    "* For asascore = 9, the ASA score is unknown. \n",
    "* For laparoscopie = 9, it is unknown whether the patient received a laparoscopy. \n",
    "* For invasief = 9, it is unknown whether the surgical procedure was invasive. \n",
    "* For typok = 99, the type of the resection is unknown. \n",
    "* For adjuvant = 9, the type of adjuvant therapy that the patient underwent is unknown. "
   ]
  },
  {
   "cell_type": "code",
   "execution_count": 86,
   "metadata": {},
   "outputs": [
    {
     "name": "stdout",
     "output_type": "stream",
     "text": [
      "Number of missing values in column gebdat: 0\n",
      "Number of missing values in column behperdat: 0\n",
      "Number of missing values in column geslacht: 0\n",
      "Number of missing values in column reggroep: 0\n",
      "Number of missing values in column igg4: 3\n",
      "Number of missing values in column mri: 2\n",
      "Number of missing values in column beeldconcl: 3\n",
      "Number of missing values in column lokalisatie: 8\n",
      "Number of missing values in column diagroot: 12\n",
      "Number of missing values in column bildrain: 3\n",
      "Number of missing values in column cytdiagnose: 50\n",
      "Number of missing values in column asascore: 5\n",
      "Number of missing values in column resectie: 2\n",
      "Number of missing values in column laparoscopie: 4\n",
      "Number of missing values in column invasief: 3\n",
      "Number of missing values in column typok: 2\n",
      "Number of missing values in column POPF: 0\n",
      "Number of missing values in column adjuvant: 15\n",
      "Number of missing values in column ipmnpost: 9\n"
     ]
    }
   ],
   "source": [
    "for col in patient_df_rel.columns:\n",
    "    print(\"Number of missing values in column \" + str(col) + \": \" + str(patient_df_rel[col].isna().sum()))"
   ]
  },
  {
   "cell_type": "code",
   "execution_count": 87,
   "metadata": {},
   "outputs": [],
   "source": [
    "nines = [\"mri\", \"lokalisatie\", \"bildrain\", \"cytdiagnose\", \"asascore\", \"laparoscopie\", \"invasief\", \"adjuvant\"]"
   ]
  },
  {
   "cell_type": "code",
   "execution_count": 88,
   "metadata": {},
   "outputs": [],
   "source": [
    "nines = [\"mri\", \"lokalisatie\", \"bildrain\", \"cytdiagnose\", \"asascore\", \"laparoscopie\", \"invasief\", \"adjuvant\"]\n",
    "for el in nines:\n",
    "    patient_df_rel[el].replace(9, np.nan, inplace=True)\n",
    "\n",
    "replace_dict = {\"typok\": 99, \"igg4\": 9999, \"diagroot\": 9999}\n",
    "patient_df_rel.replace(replace_dict, np.nan, inplace=True)"
   ]
  },
  {
   "cell_type": "code",
   "execution_count": 89,
   "metadata": {},
   "outputs": [
    {
     "name": "stdout",
     "output_type": "stream",
     "text": [
      "Number of missing values in column gebdat: 0\n",
      "Number of missing values in column behperdat: 0\n",
      "Number of missing values in column geslacht: 0\n",
      "Number of missing values in column reggroep: 0\n",
      "Number of missing values in column igg4: 57\n",
      "Number of missing values in column mri: 2\n",
      "Number of missing values in column beeldconcl: 3\n",
      "Number of missing values in column lokalisatie: 8\n",
      "Number of missing values in column diagroot: 16\n",
      "Number of missing values in column bildrain: 3\n",
      "Number of missing values in column cytdiagnose: 50\n",
      "Number of missing values in column asascore: 5\n",
      "Number of missing values in column resectie: 2\n",
      "Number of missing values in column laparoscopie: 4\n",
      "Number of missing values in column invasief: 3\n",
      "Number of missing values in column typok: 2\n",
      "Number of missing values in column POPF: 0\n",
      "Number of missing values in column adjuvant: 15\n",
      "Number of missing values in column ipmnpost: 9\n"
     ]
    }
   ],
   "source": [
    "for col in patient_df_rel.columns:\n",
    "    print(\"Number of missing values in column \" + str(col) + \": \" + str(patient_df_rel[col].isna().sum()))"
   ]
  },
  {
   "attachments": {},
   "cell_type": "markdown",
   "metadata": {},
   "source": [
    "### Analysis"
   ]
  },
  {
   "attachments": {},
   "cell_type": "markdown",
   "metadata": {},
   "source": [
    "#### Patient age\n",
    "Let's first create a function that calculates the patient age as the difference between the year when the treatment started and the patient's birth year. This is relevant because it is well known that IPMN mostly affects more mature patients, in the 6th and 7th decades of life."
   ]
  },
  {
   "cell_type": "code",
   "execution_count": 90,
   "metadata": {},
   "outputs": [],
   "source": [
    "def calculate_age(df):\n",
    "    birth_year = pd.to_datetime(df['gebdat']).year\n",
    "    care_year = pd.to_datetime(df['behperdat']).year\n",
    "    age = care_year - birth_year\n",
    "    return age"
   ]
  },
  {
   "cell_type": "code",
   "execution_count": 91,
   "metadata": {},
   "outputs": [],
   "source": [
    "patient_df_rel['age'] = patient_df_rel.apply(calculate_age, axis=1)\n",
    "# patient_df_rel"
   ]
  },
  {
   "cell_type": "code",
   "execution_count": 92,
   "metadata": {},
   "outputs": [
    {
     "data": {
      "text/plain": [
       "<Axes: xlabel='age', ylabel='Count'>"
      ]
     },
     "execution_count": 92,
     "metadata": {},
     "output_type": "execute_result"
    },
    {
     "data": {
      "image/png": "[encoded data removed]",
      "text/plain": [
       "<Figure size 640x480 with 1 Axes>"
      ]
     },
     "metadata": {},
     "output_type": "display_data"
    }
   ],
   "source": [
    "sns.histplot(data = patient_df_rel[\"age\"])"
   ]
  },
  {
   "attachments": {},
   "cell_type": "markdown",
   "metadata": {},
   "source": [
    "The distributon of the patient age is skewed to the left, indicating that most patients are in the later decades of their lives. The distributions of other numerical data are visualized below. "
   ]
  },
  {
   "cell_type": "code",
   "execution_count": 93,
   "metadata": {},
   "outputs": [
    {
     "data": {
      "text/plain": [
       "<Axes: xlabel='igg4', ylabel='Count'>"
      ]
     },
     "execution_count": 93,
     "metadata": {},
     "output_type": "execute_result"
    },
    {
     "data": {
      "image/png": "[encoded data removed]",
      "text/plain": [
       "<Figure size 640x480 with 1 Axes>"
      ]
     },
     "metadata": {},
     "output_type": "display_data"
    }
   ],
   "source": [
    "sns.histplot(data = patient_df_rel[\"igg4\"])"
   ]
  },
  {
   "cell_type": "code",
   "execution_count": 94,
   "metadata": {},
   "outputs": [
    {
     "data": {
      "text/plain": [
       "<Axes: xlabel='diagroot', ylabel='Count'>"
      ]
     },
     "execution_count": 94,
     "metadata": {},
     "output_type": "execute_result"
    },
    {
     "data": {
      "image/png": "[encoded data removed]",
      "text/plain": [
       "<Figure size 640x480 with 1 Axes>"
      ]
     },
     "metadata": {},
     "output_type": "display_data"
    }
   ],
   "source": [
    "sns.histplot(data = patient_df_rel[\"diagroot\"])"
   ]
  },
  {
   "cell_type": "code",
   "execution_count": 95,
   "metadata": {},
   "outputs": [],
   "source": [
    "# print(patient_df_rel.describe())"
   ]
  },
  {
   "cell_type": "code",
   "execution_count": 96,
   "metadata": {},
   "outputs": [
    {
     "data": {
      "text/plain": [
       "1.0    41\n",
       "2.0    38\n",
       "Name: geslacht, dtype: int64"
      ]
     },
     "execution_count": 96,
     "metadata": {},
     "output_type": "execute_result"
    }
   ],
   "source": [
    "patient_df_rel[\"geslacht\"].value_counts()"
   ]
  },
  {
   "attachments": {},
   "cell_type": "markdown",
   "metadata": {},
   "source": [
    "The dataset consists of 41 men and 39 women."
   ]
  },
  {
   "cell_type": "code",
   "execution_count": 97,
   "metadata": {},
   "outputs": [
    {
     "data": {
      "text/plain": [
       "1.0    77\n",
       "2.0     2\n",
       "Name: reggroep, dtype: int64"
      ]
     },
     "execution_count": 97,
     "metadata": {},
     "output_type": "execute_result"
    }
   ],
   "source": [
    "patient_df_rel[\"reggroep\"].value_counts() "
   ]
  },
  {
   "attachments": {},
   "cell_type": "markdown",
   "metadata": {},
   "source": [
    "Most patients have suspected or proven tumor or premalignant cyst (makes sense, as IPMN is a premalignant cyst)."
   ]
  },
  {
   "cell_type": "code",
   "execution_count": 98,
   "metadata": {},
   "outputs": [
    {
     "data": {
      "text/plain": [
       "1.0    70\n",
       "0.0     7\n",
       "Name: mri, dtype: int64"
      ]
     },
     "execution_count": 98,
     "metadata": {},
     "output_type": "execute_result"
    }
   ],
   "source": [
    "patient_df_rel[\"mri\"].value_counts()"
   ]
  },
  {
   "attachments": {},
   "cell_type": "markdown",
   "metadata": {},
   "source": [
    "There are 7 patients in this data set for which there are no registered MRI scans according to the DPCG. We have obtained the scans for all patients apart from those clearly indicated above."
   ]
  },
  {
   "cell_type": "code",
   "execution_count": 99,
   "metadata": {},
   "outputs": [
    {
     "data": {
      "text/plain": [
       "2.0    68\n",
       "1.0     4\n",
       "0.0     4\n",
       "Name: beeldconcl, dtype: int64"
      ]
     },
     "execution_count": 99,
     "metadata": {},
     "output_type": "execute_result"
    }
   ],
   "source": [
    "patient_df_rel[\"beeldconcl\"].value_counts() "
   ]
  },
  {
   "attachments": {},
   "cell_type": "markdown",
   "metadata": {},
   "source": [
    "For 4 of the patients, no tumor is visible in the scan. For another 4 patients, a solid tumor is visible. A cyst is present in 69 of the patient scans."
   ]
  },
  {
   "cell_type": "code",
   "execution_count": 100,
   "metadata": {},
   "outputs": [
    {
     "data": {
      "text/plain": [
       "1.0    41\n",
       "2.0    16\n",
       "3.0    13\n",
       "4.0     1\n",
       "Name: lokalisatie, dtype: int64"
      ]
     },
     "execution_count": 100,
     "metadata": {},
     "output_type": "execute_result"
    }
   ],
   "source": [
    "patient_df_rel[\"lokalisatie\"].value_counts() "
   ]
  },
  {
   "attachments": {},
   "cell_type": "markdown",
   "metadata": {},
   "source": [
    "The tumor is found in the head of the pancreas for 42 of the patients, in the body for 16, and in the tail for 13 of the patients. One patient has a periampullary tumor. "
   ]
  },
  {
   "cell_type": "code",
   "execution_count": 101,
   "metadata": {},
   "outputs": [
    {
     "data": {
      "text/plain": [
       "0.0    66\n",
       "2.0     9\n",
       "3.0     4\n",
       "Name: POPF, dtype: int64"
      ]
     },
     "execution_count": 101,
     "metadata": {},
     "output_type": "execute_result"
    }
   ],
   "source": [
    "patient_df_rel[\"POPF\"].value_counts() "
   ]
  },
  {
   "attachments": {},
   "cell_type": "markdown",
   "metadata": {},
   "source": [
    "13 of the patients developed POPF. For 9 of those patients, the POPF was grade B, while for 4 patients, the POPF was classified as grade C."
   ]
  },
  {
   "cell_type": "code",
   "execution_count": 162,
   "metadata": {},
   "outputs": [
    {
     "data": {
      "text/plain": [
       "1.0    44\n",
       "3.0    11\n",
       "4.0     8\n",
       "2.0     6\n",
       "0.0     2\n",
       "Name: ipmnpost, dtype: int64"
      ]
     },
     "execution_count": 162,
     "metadata": {},
     "output_type": "execute_result"
    }
   ],
   "source": [
    "patient_df_rel[\"ipmnpost\"].value_counts() "
   ]
  },
  {
   "attachments": {},
   "cell_type": "markdown",
   "metadata": {},
   "source": [
    "No malignancy was found for 2 of the patients. 44 patients were diagnosed with a low-grade dysplasia, 6 with a medium-grade dysplasia, 11 with a high-grade dysplasia, and 8 with invasive carcinoma."
   ]
  },
  {
   "attachments": {},
   "cell_type": "markdown",
   "metadata": {},
   "source": [
    "## MRI Attributes"
   ]
  },
  {
   "attachments": {},
   "cell_type": "markdown",
   "metadata": {},
   "source": [
    "Seven MRI attributes are reported for each patients. These include the slice thickness, rows, column, magnetic field strength, flip angle, pixel spacing, slice spacing, and the image position in three axes [x, y, z]. The x-axis is increasing to the left hand side of the patient. The y-axis is increasing to the posterior side of the patient. The z-axis is increasing toward the head of the patient.\n",
    "\n",
    "The attributes were extracted using from the header of each DICOM file, the standard protocol used in medical imaging. The attributes for three patients are reported below. Reporting these attributes is crucial for accurate image interpretation, consistency and interoperability, and ensuring compliance with regulatory requirements."
   ]
  },
  {
   "cell_type": "code",
   "execution_count": 163,
   "metadata": {},
   "outputs": [],
   "source": [
    "mri_modalities = pd.read_csv(r\"L:\\basic\\divi\\jstoker\\slicer_pdac\\Master Students SS 23\\Matej\\Patient data\\MRI_modalities_v2.csv\")\n",
    "mri_modalities = mri_modalities.drop(columns=[\"Unnamed: 0\"]).set_index(\"Parameter\")\n",
    "mri_modalities_short = mri_modalities.iloc[:, :3]\n",
    "# print(mri_modalities_short.to_markdown()) "
   ]
  },
  {
   "attachments": {},
   "cell_type": "markdown",
   "metadata": {},
   "source": [
    "| Parameter               | PANC-1012                                             | PANC-1021                                              | PANC-1022                                            |\n",
    "|:------------------------|:------------------------------------------------------|:-------------------------------------------------------|:-----------------------------------------------------|\n",
    "| SliceThickness          | 6                                                     | 4,4                                                    | 6                                                    |\n",
    "| Rows                    | 156                                                   | 192                                                    | 216                                                  |\n",
    "| Columns                 | 192                                                   | 192                                                    | 268                                                  |\n",
    "| Magnetic Field Strength | 1,5                                                   | 1,5                                                    | 1,5                                                  |\n",
    "| Flip Angle              | 90                                                    | 10                                                     | 90                                                   |\n",
    "| PixelSpacing            | [1.9791666269302, 1.9791666269302]                    | [1.953125, 1.953125]                                   | [1.567164182663, 1.567164182663]                     |\n",
    "| SpacingBetweenSlices    | 7,2                                                   | 2,2                                                    | 7,2                                                  |\n",
    "| ImagePositionPatient    | [-211.79176330566, -167.45005774498, 48.901161193848] | [-178.93571748660, -226.11171629297, -16.384918212890] | [-233.91821146011, -185.58309459686, 11.91090130806] |"
   ]
  },
  {
   "attachments": {},
   "cell_type": "markdown",
   "metadata": {},
   "source": [
    "# Appendix"
   ]
  },
  {
   "attachments": {},
   "cell_type": "markdown",
   "metadata": {},
   "source": [
    "It is necessary to go through each variable to get an understanding of what it represents. This will be done with the help of the variable dictionary from the DPCG.\n",
    "\n",
    "Going through the variables, these ones seem the most relevant: \n",
    "\n",
    "* gebdat (geboorte datum) -> we know that patients are more likely to develop IPMN in the 6th and 7th decade in life // might need to transform this to \"age\" using \"behperdat\"\n",
    "* geslacht -> women (?) are more affected than men \n",
    "    * 1 = men\n",
    "    * 2 = women // might need to be changed into a binary variable\n",
    "* reggroep\n",
    "    * 1 = patient has suspected OR proven pancreatic/periampullary tumor or premalignant cyst\n",
    "    * 2 = patient discussed in multidisciplinary consultation, no exploration and/or resection\n",
    "    * 3 = chronic pancreatitis requiring pancreatic head or tail resection\n",
    "* igg4\n",
    "* beeldv or mri \n",
    "* beeldconcl -> is there a tumor visible in the scan? // maybe\n",
    "    * 0 = no\n",
    "    * 1 = yes, solid tumor\n",
    "    * 2 = yes, cyst\n",
    "* lokalisatie\n",
    "    * 1 = head of the pancreas\n",
    "    * 2 = body of the pancreas\n",
    "    * 3 = tail of the pancreas \n",
    "    * 4 = periampullary \n",
    "    * 5 = duodenum\n",
    "    * 9 = unknown \n",
    "* diagroot\n",
    "* bildrain\n",
    "* draindat\n",
    "* cytdiagnose\n",
    "    * 1 = benign \n",
    "    * 2 = atypical or suspected of malignancy\n",
    "    * 3 = malignant \n",
    "    * 4 = not judgeable \n",
    "* ASA score // maybe, but I don't see this going too far\n",
    "* resectie // just to confirm that all patients underwent pancreatic resection \n",
    "* laparoscopie // maybe, not sure whether this would have an impact on fistulae \n",
    "    * 0 = no\n",
    "    * 1 = yes\n",
    "    * 9 = unknown\n",
    "* invasief \n",
    "    * 1 = no\n",
    "    * 2 = yes; laparoscopy with conversion\n",
    "    * 3 = yes; laparoscopy without conversion\n",
    "    * 4 = yes; robot-assisted with conversion\n",
    "    * 5 = yes; robot-assisted without conversion\n",
    "    * 9 = unknown \n",
    "* typok\n",
    "    * 1 = PPPD \n",
    "    * 2 = classic Whipple\n",
    "    * 10 = PRPD\n",
    "    * 3 = resection of pancreatic body or tail \n",
    "    * 4 = central pancreatic resection \n",
    "    * 5 = total pancreatectomy \n",
    "    * 6 = pancreatic tumor enucleation \n",
    "    * 7 = total duodenectomy \n",
    "    * 77 = other\n",
    "    * 99 = unknown\n",
    "* Check variables under Chirurgie: Aanvullende resecties and determine whether relevant \n",
    "* aspect\n",
    "    * 1 = normal / soft\n",
    "    * 2 = hard / fibriotic\n",
    "    * 9 = unknown\n",
    "* fistel2016 // important: data not available for all patients \n",
    "    * 0 = no\n",
    "    * 1 = Biochemical leak: no clinical consequences\n",
    "    * 2 = Grade B: persistent drainage > 3 weeks, clinically relevant change in management of POPF, ..., signs of infection due to organ failure\n",
    "    * 3 = Grace C: Grade B + reoperation, prolonged hospital stay, ICU, death\n",
    "* fistel \n",
    "    * 0 = no or Grade A (no therapeutic action needed, hospital stay not prolonged)\n",
    "    * 1 = Grade B (medical action but no reoperation, prolonged hospital stay, possible discharge with drains in situ)\n",
    "    * 2 = Grade C (re-operation and / or prolonged hospital care and/or IC-care and/or death)\n",
    "* Variables in section Adjuvante behandeling\n",
    "    * adjuvant \n",
    "        * 1 = no\n",
    "        * 2 = chemoradiotherapy\n",
    "        * 3 = chemotherapy \n",
    "        * 4 = radiotherapy \n",
    "        * 7 = other\n",
    "        * 9 = unknown\n",
    "    * neoadjuvant, adjuvantadv, ...\n",
    "* ipmnpost\n",
    "    * 0 = no malignancy\n",
    "    * 1 = low-grade dysplasia\n",
    "    * 2 = medium-grade dysplasia\n",
    "    * 3 = high-grade dysplasia (carcinoma in situ)\n",
    "    * 4 = invasive carcinoma "
   ]
  },
  {
   "cell_type": "code",
   "execution_count": 164,
   "metadata": {},
   "outputs": [],
   "source": [
    "variable_dictionary = {\n",
    "    \"gebdat\": \"date of birth\",\n",
    "    \"geslacht\": \"sex\",\n",
    "    \"behperdat\": \"start of treatment period\",\n",
    "    \"reggroep\": \"reason for registration\", \n",
    "    \"verrichting-upn\": \"patient hospital number\",\n",
    "    \"lengte\": \"height in cm\",\n",
    "    \"gewicht\": \"preoperative weight in kg\",\n",
    "    \"gewverlies\": \"weight loss in kg\",\n",
    "    \"gewperiode\": \"period in which weight loss occurred in weeks\",\n",
    "    \"ecog\": \"ECOG performance status; measuring how the patient's disease is progressing\",\n",
    "    \"igg4\": \"IgG4 in g/L\",\n",
    "    \"cea\": \"carcinoembryonic antigen in micrograms/L\", \n",
    "    \"ca199\": \"CA19.9 in kU/I\", \n",
    "    \"beeldv\": \"Is er een CT, MRI of MRCP verrich?\",\n",
    "    \"mri\": \"Is er een MRI verricht?\",\n",
    "    \"beeldconcl\": \"Is er op CT of MRi een tumor zichtbaar in het pancreas of periampullair?\",\n",
    "    \"lokalisatie\": \"localization\",\n",
    "    \"diagroot\": \"Largest diameter of the tumor, in the transverse plane in mm\",\n",
    "    \"vaten\": \"Is there vessel involvment?\",\n",
    "    \"bildrain\": \"Is there billary drainage?\",\n",
    "    \"draindat\": \"date of last gallbladder drainage\",\n",
    "    \"cytdiagnose\": \"cytological diagnosis\",\n",
    "    \"ASA score\": \"subjective overall patient health score\",\n",
    "    \"resectie\": \"resection condition (?)\",\n",
    "    \"invasief\": \"Was the resection minimally invasive?\",\n",
    "    \"typok\": \"type of resection\",\n",
    "    \"resecveneus\": \"venous resection of portal vein and/or superior mesenteric vein and type of resection\",\n",
    "    \"aspect\": \"aspect of the pancreas\",\n",
    "    \"fistel\": \"POPF following ISGPS definition 2005\",\n",
    "    \"fistel2016\": \"POPF following ISGPS definition 2016\"\n",
    "}"
   ]
  },
  {
   "cell_type": "code",
   "execution_count": null,
   "metadata": {},
   "outputs": [],
   "source": []
  }
 ],
 "metadata": {
  "kernelspec": {
   "display_name": "Python 3",
   "language": "python",
   "name": "python3"
  },
  "language_info": {
   "codemirror_mode": {
    "name": "ipython",
    "version": 3
   },
   "file_extension": ".py",
   "mimetype": "text/x-python",
   "name": "python",
   "nbconvert_exporter": "python",
   "pygments_lexer": "ipython3",
   "version": "3.7.16"
  },
  "orig_nbformat": 4
 },
 "nbformat": 4,
 "nbformat_minor": 2
}
